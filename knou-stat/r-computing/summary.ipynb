{
 "cells": [
  {
   "cell_type": "markdown",
   "metadata": {},
   "source": [
    "# 작업 디렉토리 관련 설정\n",
    "\n",
    "- setwd() => 작업 디렉토리 설정\n",
    "- getwd() => 현재 디렉토리 조회\n",
    "\n",
    "# 데이터 입출력, 저장\n",
    "## 데이터 입력\n",
    "- 데이터 입력 관련 함수, c()를 주로 많이 사용하고, scan이나 edit은 딱히 많이 사용하지 않을 듯\n",
    "  - c()\n",
    "    - R 벡터 자료형에 해당(하나 이상의 동일한 데이터타입을 원소로 갖는 집합)\n",
    "    - 여기서는 원소들을 관측값들이라고 생각하면 될 듯\n",
    "  - scan()\n",
    "    - 사용자로부터 입력을 받음(사용자로부터 입력을 받을 수 있음)\n",
    "  - edit()\n",
    "    - 사용자로부터 입력을 받음(별도 창이 뜸)\n",
    "- 갑자기 cbind, rbind 같은 함수도 소개하는데, 함수명에서 나오듯이 열방향 결합함수, 행방향 결합함수\n",
    "\n",
    "## 데이터 저장\n",
    "- 데이터를 파일로 출력할수 있는 함수들\n",
    "  - sink()\n",
    "    - 이거 사용방법이 좀 독특함, sink() 함수로 출력할 내용 전후에 선언해주어야함\n",
    "  - write.csv()\n",
    "    - csv 포맷으로 파일을 저장하게됨\n",
    "  - write.table()\n",
    "\n"
   ]
  },
  {
   "cell_type": "code",
   "execution_count": 166,
   "metadata": {},
   "outputs": [
    {
     "data": {
      "text/html": [
       "<style>\n",
       ".list-inline {list-style: none; margin:0; padding: 0}\n",
       ".list-inline>li {display: inline-block}\n",
       ".list-inline>li:not(:last-child)::after {content: \"\\00b7\"; padding: 0 .5ex}\n",
       "</style>\n",
       "<ol class=list-inline><li>'.GlobalEnv'</li><li>'jupyter:irkernel'</li><li>'package:stats'</li><li>'package:graphics'</li><li>'package:grDevices'</li><li>'package:utils'</li><li>'package:datasets'</li><li>'package:methods'</li><li>'Autoloads'</li><li>'package:base'</li></ol>\n"
      ],
      "text/latex": [
       "\\begin{enumerate*}\n",
       "\\item '.GlobalEnv'\n",
       "\\item 'jupyter:irkernel'\n",
       "\\item 'package:stats'\n",
       "\\item 'package:graphics'\n",
       "\\item 'package:grDevices'\n",
       "\\item 'package:utils'\n",
       "\\item 'package:datasets'\n",
       "\\item 'package:methods'\n",
       "\\item 'Autoloads'\n",
       "\\item 'package:base'\n",
       "\\end{enumerate*}\n"
      ],
      "text/markdown": [
       "1. '.GlobalEnv'\n",
       "2. 'jupyter:irkernel'\n",
       "3. 'package:stats'\n",
       "4. 'package:graphics'\n",
       "5. 'package:grDevices'\n",
       "6. 'package:utils'\n",
       "7. 'package:datasets'\n",
       "8. 'package:methods'\n",
       "9. 'Autoloads'\n",
       "10. 'package:base'\n",
       "\n",
       "\n"
      ],
      "text/plain": [
       " [1] \".GlobalEnv\"        \"jupyter:irkernel\"  \"package:stats\"    \n",
       " [4] \"package:graphics\"  \"package:grDevices\" \"package:utils\"    \n",
       " [7] \"package:datasets\"  \"package:methods\"   \"Autoloads\"        \n",
       "[10] \"package:base\"     "
      ]
     },
     "metadata": {},
     "output_type": "display_data"
    },
    {
     "data": {
      "text/html": [
       "'/home/centos/apps/server/analysis/base/r-programming'"
      ],
      "text/latex": [
       "'/home/centos/apps/server/analysis/base/r-programming'"
      ],
      "text/markdown": [
       "'/home/centos/apps/server/analysis/base/r-programming'"
      ],
      "text/plain": [
       "[1] \"/home/centos/apps/server/analysis/base/r-programming\""
      ]
     },
     "metadata": {},
     "output_type": "display_data"
    },
    {
     "name": "stdout",
     "output_type": "stream",
     "text": [
      "[1] 1 2 3 4 5\n"
     ]
    },
    {
     "data": {
      "text/html": [
       "<style>\n",
       ".list-inline {list-style: none; margin:0; padding: 0}\n",
       ".list-inline>li {display: inline-block}\n",
       ".list-inline>li:not(:last-child)::after {content: \"\\00b7\"; padding: 0 .5ex}\n",
       "</style>\n",
       "<ol class=list-inline><li>1</li><li>2</li><li>3</li><li>4</li><li>5</li></ol>\n"
      ],
      "text/latex": [
       "\\begin{enumerate*}\n",
       "\\item 1\n",
       "\\item 2\n",
       "\\item 3\n",
       "\\item 4\n",
       "\\item 5\n",
       "\\end{enumerate*}\n"
      ],
      "text/markdown": [
       "1. 1\n",
       "2. 2\n",
       "3. 3\n",
       "4. 4\n",
       "5. 5\n",
       "\n",
       "\n"
      ],
      "text/plain": [
       "[1] 1 2 3 4 5"
      ]
     },
     "metadata": {},
     "output_type": "display_data"
    },
    {
     "data": {
      "text/html": [
       "5"
      ],
      "text/latex": [
       "5"
      ],
      "text/markdown": [
       "5"
      ],
      "text/plain": [
       "[1] 5"
      ]
     },
     "metadata": {},
     "output_type": "display_data"
    },
    {
     "name": "stdout",
     "output_type": "stream",
     "text": [
      "NULL\n"
     ]
    },
    {
     "data": {
      "text/html": [
       "0"
      ],
      "text/latex": [
       "0"
      ],
      "text/markdown": [
       "0"
      ],
      "text/plain": [
       "[1] 0"
      ]
     },
     "metadata": {},
     "output_type": "display_data"
    },
    {
     "name": "stdout",
     "output_type": "stream",
     "text": [
      " [1]  1  2  3  4  5  6  7  8  9 10\n",
      " [1]  1  2  3  4  5  6  7  8  9 10\n",
      "       a  b\n",
      " [1,]  1  1\n",
      " [2,]  2  2\n",
      " [3,]  3  3\n",
      " [4,]  4  4\n",
      " [5,]  5  5\n",
      " [6,]  6  6\n",
      " [7,]  7  7\n",
      " [8,]  8  8\n",
      " [9,]  9  9\n",
      "[10,] 10 10\n",
      "  [,1] [,2] [,3] [,4] [,5] [,6] [,7] [,8] [,9] [,10]\n",
      "a    1    2    3    4    5    6    7    8    9    10\n",
      "b    1    2    3    4    5    6    7    8    9    10\n",
      "       a  b\n",
      " [1,]  1  1\n",
      " [2,]  2  2\n",
      " [3,]  3  3\n",
      " [4,]  4  4\n",
      " [5,]  5  5\n",
      " [6,]  6  6\n",
      " [7,]  7  7\n",
      " [8,]  8  8\n",
      " [9,]  9  9\n",
      "[10,] 10 10\n"
     ]
    }
   ],
   "source": [
    "search()\n",
    "\n",
    "getwd()\n",
    "\n",
    "# setwd('/home/centos/apps/server/analysis/base/r-programming')\n",
    "\n",
    "test1 <- c(1,2,3,4,5)\n",
    "# test1 변수를 출력하는 방식은 print함수를 써도되고, 그냥 변수명만 넣어도 됨\n",
    "print(test1)\n",
    "test1\n",
    "length(test1) # 5가 나오겠지\n",
    "\n",
    "# 빈 데이터를 만들수도 있음\n",
    "test2 <- c()\n",
    "print(test2)\n",
    "length(test2)\n",
    "\n",
    "# cbind, rbind 동작 확인\n",
    "a <- 1:10\n",
    "b <- 1:10\n",
    "print(a)\n",
    "print(b)\n",
    "print(cbind(a,b))\n",
    "\n",
    "## 같은 length의 벡터를 열방향이나 행방향으로 합칠수 있음\n",
    "c <- rbind(a,b)\n",
    "print(c)\n",
    "c <- cbind(a,b)\n",
    "print(c)\n"
   ]
  },
  {
   "cell_type": "code",
   "execution_count": 94,
   "metadata": {},
   "outputs": [
    {
     "data": {
      "text/html": [
       "<style>\n",
       ".list-inline {list-style: none; margin:0; padding: 0}\n",
       ".list-inline>li {display: inline-block}\n",
       ".list-inline>li:not(:last-child)::after {content: \"\\00b7\"; padding: 0 .5ex}\n",
       "</style>\n",
       "<ol class=list-inline><li>1</li><li>2</li><li>3</li><li>4</li><li>5</li></ol>\n"
      ],
      "text/latex": [
       "\\begin{enumerate*}\n",
       "\\item 1\n",
       "\\item 2\n",
       "\\item 3\n",
       "\\item 4\n",
       "\\item 5\n",
       "\\end{enumerate*}\n"
      ],
      "text/markdown": [
       "1. 1\n",
       "2. 2\n",
       "3. 3\n",
       "4. 4\n",
       "5. 5\n",
       "\n",
       "\n"
      ],
      "text/plain": [
       "[1] 1 2 3 4 5"
      ]
     },
     "metadata": {},
     "output_type": "display_data"
    },
    {
     "data": {
      "text/html": [
       "'numeric'"
      ],
      "text/latex": [
       "'numeric'"
      ],
      "text/markdown": [
       "'numeric'"
      ],
      "text/plain": [
       "[1] \"numeric\""
      ]
     },
     "metadata": {},
     "output_type": "display_data"
    },
    {
     "data": {
      "text/html": [
       "'character'"
      ],
      "text/latex": [
       "'character'"
      ],
      "text/markdown": [
       "'character'"
      ],
      "text/plain": [
       "[1] \"character\""
      ]
     },
     "metadata": {},
     "output_type": "display_data"
    },
    {
     "data": {
      "text/html": [
       "<table class=\"dataframe\">\n",
       "<caption>A matrix: 5 × 2 of type dbl</caption>\n",
       "<thead>\n",
       "\t<tr><th scope=col>x</th><th scope=col>y</th></tr>\n",
       "</thead>\n",
       "<tbody>\n",
       "\t<tr><td>1</td><td>6</td></tr>\n",
       "\t<tr><td>2</td><td>6</td></tr>\n",
       "\t<tr><td>3</td><td>6</td></tr>\n",
       "\t<tr><td>4</td><td>6</td></tr>\n",
       "\t<tr><td>5</td><td>6</td></tr>\n",
       "</tbody>\n",
       "</table>\n"
      ],
      "text/latex": [
       "A matrix: 5 × 2 of type dbl\n",
       "\\begin{tabular}{ll}\n",
       " x & y\\\\\n",
       "\\hline\n",
       "\t 1 & 6\\\\\n",
       "\t 2 & 6\\\\\n",
       "\t 3 & 6\\\\\n",
       "\t 4 & 6\\\\\n",
       "\t 5 & 6\\\\\n",
       "\\end{tabular}\n"
      ],
      "text/markdown": [
       "\n",
       "A matrix: 5 × 2 of type dbl\n",
       "\n",
       "| x | y |\n",
       "|---|---|\n",
       "| 1 | 6 |\n",
       "| 2 | 6 |\n",
       "| 3 | 6 |\n",
       "| 4 | 6 |\n",
       "| 5 | 6 |\n",
       "\n"
      ],
      "text/plain": [
       "     x y\n",
       "[1,] 1 6\n",
       "[2,] 2 6\n",
       "[3,] 3 6\n",
       "[4,] 4 6\n",
       "[5,] 5 6"
      ]
     },
     "metadata": {},
     "output_type": "display_data"
    },
    {
     "data": {
      "text/html": [],
      "text/latex": [],
      "text/markdown": [],
      "text/plain": [
       "numeric(0)"
      ]
     },
     "metadata": {},
     "output_type": "display_data"
    },
    {
     "ename": "ERROR",
     "evalue": "Error in edit(w2): ‘edit()’ not yet supported in the Jupyter R kernel\n",
     "output_type": "error",
     "traceback": [
      "Error in edit(w2): ‘edit()’ not yet supported in the Jupyter R kernel\nTraceback:\n",
      "1. edit(w2)",
      "2. stop(sQuote(\"edit()\"), \" not yet supported in the Jupyter R kernel\")"
     ]
    }
   ],
   "source": [
    "# 데이터 입력(벡터)\n",
    "x <- c(1,2,3,4,5)\n",
    "x #  [1] 1 2 3 4 5\n",
    "y <- c(6,6,6,6,6)\n",
    "\n",
    "# 변수의 데이터타입을 mode 함수로 확인 가능능\n",
    "mode(x) # numeric\n",
    "mode(c(\"a\", \"b\")) # character\n",
    "\n",
    "# cbind => 길이가 같은 벡터를 하나로 합쳐지게 됨\n",
    "data <- cbind(x, y)\n",
    "data\n",
    "\n",
    "# scan함수 => 입력장치로부터 입력값을 직접 받을수 있음\n",
    "# 더 입력하지 않는다면 공백에서 엔터 해주면 됨\n",
    "# 반드시 같은 데이터타입을 넣어줘야함\n",
    "w1 <- scan()\n",
    "w1\n",
    "\n",
    "# edit() 함수 => 아예 데이터 입력창을 별도로 띄워줌(스프레드 시트 같은 윈도)\n",
    "# 데이터 넣어주고 창 닫으면 들어감\n",
    "w2 <- data.frame()\n",
    "w2 <- edit(w2)\n",
    "w2\n",
    "\n",
    "# sink() 함수 => 화면에 출력된 모든 결과를 파일로 저장\n",
    "# sink() 함수 열고, sink() 함수를 다시 써주면 그 사이의 결과가 저장\n",
    "\n",
    "sink(\"printa.txt\")\n",
    "summary(iris) # 통계치 계산한 결과가 printa.txt 파일로 생성됨(working directory에 출력력)\n",
    "sink()\n",
    "\n",
    "# write.csv() 함수 => 결과를 디렉토리에 저장\n",
    "write.csv(w2, 'test.csv')\n",
    "\n",
    "# write.table() 함수 => 디폴트는 구분자 없이 쓰지만, sep(구분자)를 딴거로 지정해서 저장 가능\n",
    "write.table(w2, 'test2.csv', sep=',,')\n",
    "\n",
    "# read.csv('test.csv') => csv 파일을 읽어올 수 있음\n",
    "test <- read.csv('test.csv') \n",
    "head(test)\n",
    "\n",
    "# 데이터의 자료 구조를 보기 위해서 str() 함수 사용(structure의 약자)\n",
    "str(test)\n",
    "\n",
    "# 헤더를 T로 주면, 첫번째 줄은 데이터로 인식하지 않고 헤더로 인식한다는 것것\n",
    "test <- read.table('test.csv', header = T) \n",
    "head(test)\n",
    "\n",
    "# 결측치 => NA (no available), 데이터가 아예 조사되지 않은값(missing value)\n",
    "# read.table 함수에 na.strings='aa' 라고하면 NA데이터를 모두 aa로 자동 치환해줄수 있음\n",
    "test2 <- read.table('test.csv', header = T, na.strings = 'aa') \n",
    "\n",
    "# ls() 함수 => 현재까지 만들어진 모든 object를 확인 가능\n",
    "ls()\n",
    "# [1] \"a\"     \"b\"     \"c\"     \"d\"     \"data\"  \"data1\" \"n\"     \"r\"     \n",
    "# [12] \"w1\"    \"w2\"    \"x\"     \"y\"     \"Z\"   \n",
    "\n",
    "# rm() 함수 호출하면, 모든 object를 삭제 가능\n",
    "rm(a)\n",
    "rm(list = ls())"
   ]
  },
  {
   "cell_type": "code",
   "execution_count": 113,
   "metadata": {},
   "outputs": [
    {
     "data": {
      "text/html": [
       "<table class=\"dataframe\">\n",
       "<caption>A data.frame: 4 × 2</caption>\n",
       "<thead>\n",
       "\t<tr><th></th><th scope=col>height</th><th scope=col>weight</th></tr>\n",
       "\t<tr><th></th><th scope=col>&lt;int&gt;</th><th scope=col>&lt;dbl&gt;</th></tr>\n",
       "</thead>\n",
       "<tbody>\n",
       "\t<tr><th scope=row>1</th><td>170</td><td>60.5</td></tr>\n",
       "\t<tr><th scope=row>2</th><td>180</td><td>77.2</td></tr>\n",
       "\t<tr><th scope=row>3</th><td>165</td><td>47.0</td></tr>\n",
       "\t<tr><th scope=row>4</th><td>171</td><td>71.6</td></tr>\n",
       "</tbody>\n",
       "</table>\n"
      ],
      "text/latex": [
       "A data.frame: 4 × 2\n",
       "\\begin{tabular}{r|ll}\n",
       "  & height & weight\\\\\n",
       "  & <int> & <dbl>\\\\\n",
       "\\hline\n",
       "\t1 & 170 & 60.5\\\\\n",
       "\t2 & 180 & 77.2\\\\\n",
       "\t3 & 165 & 47.0\\\\\n",
       "\t4 & 171 & 71.6\\\\\n",
       "\\end{tabular}\n"
      ],
      "text/markdown": [
       "\n",
       "A data.frame: 4 × 2\n",
       "\n",
       "| <!--/--> | height &lt;int&gt; | weight &lt;dbl&gt; |\n",
       "|---|---|---|\n",
       "| 1 | 170 | 60.5 |\n",
       "| 2 | 180 | 77.2 |\n",
       "| 3 | 165 | 47.0 |\n",
       "| 4 | 171 | 71.6 |\n",
       "\n"
      ],
      "text/plain": [
       "  height weight\n",
       "1 170    60.5  \n",
       "2 180    77.2  \n",
       "3 165    47.0  \n",
       "4 171    71.6  "
      ]
     },
     "metadata": {},
     "output_type": "display_data"
    },
    {
     "data": {
      "text/html": [
       "<table class=\"dataframe\">\n",
       "<caption>A data.frame: 6 × 5</caption>\n",
       "<thead>\n",
       "\t<tr><th></th><th scope=col>Sepal.Length</th><th scope=col>Sepal.Width</th><th scope=col>Petal.Length</th><th scope=col>Petal.Width</th><th scope=col>Species</th></tr>\n",
       "\t<tr><th></th><th scope=col>&lt;dbl&gt;</th><th scope=col>&lt;dbl&gt;</th><th scope=col>&lt;dbl&gt;</th><th scope=col>&lt;dbl&gt;</th><th scope=col>&lt;fct&gt;</th></tr>\n",
       "</thead>\n",
       "<tbody>\n",
       "\t<tr><th scope=row>1</th><td>5.1</td><td>3.5</td><td>1.4</td><td>0.2</td><td>setosa</td></tr>\n",
       "\t<tr><th scope=row>2</th><td>4.9</td><td>3.0</td><td>1.4</td><td>0.2</td><td>setosa</td></tr>\n",
       "\t<tr><th scope=row>3</th><td>4.7</td><td>3.2</td><td>1.3</td><td>0.2</td><td>setosa</td></tr>\n",
       "\t<tr><th scope=row>4</th><td>4.6</td><td>3.1</td><td>1.5</td><td>0.2</td><td>setosa</td></tr>\n",
       "\t<tr><th scope=row>5</th><td>5.0</td><td>3.6</td><td>1.4</td><td>0.2</td><td>setosa</td></tr>\n",
       "\t<tr><th scope=row>6</th><td>5.4</td><td>3.9</td><td>1.7</td><td>0.4</td><td>setosa</td></tr>\n",
       "</tbody>\n",
       "</table>\n"
      ],
      "text/latex": [
       "A data.frame: 6 × 5\n",
       "\\begin{tabular}{r|lllll}\n",
       "  & Sepal.Length & Sepal.Width & Petal.Length & Petal.Width & Species\\\\\n",
       "  & <dbl> & <dbl> & <dbl> & <dbl> & <fct>\\\\\n",
       "\\hline\n",
       "\t1 & 5.1 & 3.5 & 1.4 & 0.2 & setosa\\\\\n",
       "\t2 & 4.9 & 3.0 & 1.4 & 0.2 & setosa\\\\\n",
       "\t3 & 4.7 & 3.2 & 1.3 & 0.2 & setosa\\\\\n",
       "\t4 & 4.6 & 3.1 & 1.5 & 0.2 & setosa\\\\\n",
       "\t5 & 5.0 & 3.6 & 1.4 & 0.2 & setosa\\\\\n",
       "\t6 & 5.4 & 3.9 & 1.7 & 0.4 & setosa\\\\\n",
       "\\end{tabular}\n"
      ],
      "text/markdown": [
       "\n",
       "A data.frame: 6 × 5\n",
       "\n",
       "| <!--/--> | Sepal.Length &lt;dbl&gt; | Sepal.Width &lt;dbl&gt; | Petal.Length &lt;dbl&gt; | Petal.Width &lt;dbl&gt; | Species &lt;fct&gt; |\n",
       "|---|---|---|---|---|---|\n",
       "| 1 | 5.1 | 3.5 | 1.4 | 0.2 | setosa |\n",
       "| 2 | 4.9 | 3.0 | 1.4 | 0.2 | setosa |\n",
       "| 3 | 4.7 | 3.2 | 1.3 | 0.2 | setosa |\n",
       "| 4 | 4.6 | 3.1 | 1.5 | 0.2 | setosa |\n",
       "| 5 | 5.0 | 3.6 | 1.4 | 0.2 | setosa |\n",
       "| 6 | 5.4 | 3.9 | 1.7 | 0.4 | setosa |\n",
       "\n"
      ],
      "text/plain": [
       "  Sepal.Length Sepal.Width Petal.Length Petal.Width Species\n",
       "1 5.1          3.5         1.4          0.2         setosa \n",
       "2 4.9          3.0         1.4          0.2         setosa \n",
       "3 4.7          3.2         1.3          0.2         setosa \n",
       "4 4.6          3.1         1.5          0.2         setosa \n",
       "5 5.0          3.6         1.4          0.2         setosa \n",
       "6 5.4          3.9         1.7          0.4         setosa "
      ]
     },
     "metadata": {},
     "output_type": "display_data"
    },
    {
     "name": "stdout",
     "output_type": "stream",
     "text": [
      "'data.frame':\t150 obs. of  5 variables:\n",
      " $ Sepal.Length: num  5.1 4.9 4.7 4.6 5 5.4 4.6 5 4.4 4.9 ...\n",
      " $ Sepal.Width : num  3.5 3 3.2 3.1 3.6 3.9 3.4 3.4 2.9 3.1 ...\n",
      " $ Petal.Length: num  1.4 1.4 1.3 1.5 1.4 1.7 1.4 1.5 1.4 1.5 ...\n",
      " $ Petal.Width : num  0.2 0.2 0.2 0.2 0.2 0.4 0.3 0.2 0.2 0.1 ...\n",
      " $ Species     : Factor w/ 3 levels \"setosa\",\"versicolor\",..: 1 1 1 1 1 1 1 1 1 1 ...\n",
      "  [1] 1.457143 1.633333 1.468750 1.483871 1.388889 1.384615 1.352941 1.470588\n",
      "  [9] 1.517241 1.580645 1.459459 1.411765 1.600000 1.433333 1.450000 1.295455\n",
      " [17] 1.384615 1.457143 1.500000 1.342105 1.588235 1.378378 1.277778 1.545455\n",
      " [25] 1.411765 1.666667 1.470588 1.485714 1.529412 1.468750 1.548387 1.588235\n",
      " [33] 1.268293 1.309524 1.580645 1.562500 1.571429 1.361111 1.466667 1.500000\n",
      " [41] 1.428571 1.956522 1.375000 1.428571 1.342105 1.600000 1.342105 1.437500\n",
      " [49] 1.432432 1.515152 2.187500 2.000000 2.225806 2.391304 2.321429 2.035714\n",
      " [57] 1.909091 2.041667 2.275862 1.925926 2.500000 1.966667 2.727273 2.103448\n",
      " [65] 1.931034 2.161290 1.866667 2.148148 2.818182 2.240000 1.843750 2.178571\n",
      " [73] 2.520000 2.178571 2.206897 2.200000 2.428571 2.233333 2.068966 2.192308\n",
      " [81] 2.291667 2.291667 2.148148 2.222222 1.800000 1.764706 2.161290 2.739130\n",
      " [89] 1.866667 2.200000 2.115385 2.033333 2.230769 2.173913 2.074074 1.900000\n",
      " [97] 1.965517 2.137931 2.040000 2.035714 1.909091 2.148148 2.366667 2.172414\n",
      "[105] 2.166667 2.533333 1.960000 2.517241 2.680000 2.000000 2.031250 2.370370\n",
      "[113] 2.266667 2.280000 2.071429 2.000000 2.166667 2.026316 2.961538 2.727273\n",
      "[121] 2.156250 2.000000 2.750000 2.333333 2.030303 2.250000 2.214286 2.033333\n",
      "[129] 2.285714 2.400000 2.642857 2.078947 2.285714 2.250000 2.346154 2.566667\n",
      "[137] 1.852941 2.064516 2.000000 2.225806 2.161290 2.225806 2.148148 2.125000\n",
      "[145] 2.030303 2.233333 2.520000 2.166667 1.823529 1.966667\n"
     ]
    }
   ],
   "source": [
    "# 2장 연습문제 풀이\n",
    "\n",
    "# 2번 문제\n",
    "familiy <- read.csv(\"familiy.csv\")\n",
    "head(familiy)\n",
    "\n",
    "# 3번 문제\n",
    "head(iris)\n",
    "str(iris)\n",
    "iris_mean <- c(mean(iris$Sepal.Length), mean(iris$Sepal.Width), mean(iris$Petal.Length), mean(iris$Petal.Width))\n",
    "write.csv(iris_mean, file=\"iris_mean.csv\")\n",
    "\n",
    "# 4번 문제\n",
    "iris2 <- iris\n",
    "iris2$Sepal.Ratio <- iris2$Sepal.Length / iris2$Sepal.Width\n",
    "print(iris2$Sepal.Ratio)\n",
    "\n",
    "# 6번 문제\n",
    "rm(list = ls())\n"
   ]
  },
  {
   "cell_type": "markdown",
   "metadata": {},
   "source": [
    "# 데이터 구조\n",
    "- 데이터 구조 => 데이터를 관리하는 구조\n",
    "  - 데이터를 메모리 상에 어떻게 위치시키고 논리적으로 어떻게 이용하는지에 대한 것\n",
    "  - 단순히 리스트와 배열의 구조를 표현해보면, 물리적 메모리에 연속적이거나 비연속적인 것으로 다르게 관리\n",
    "    - 물론 이건 각 언어의 구현 방식에 따라서 달라지는 것이므로 절대적으로 이렇게 된다라는 것은 아님\n",
    "\n",
    "## 벡터\n",
    "- 1개 이상의 동일한 데이터타입으로 구성된 자료구조\n",
    "  - 수치형, 문자형, 논리형 중 한가지 형태로만 이루어져야함\n",
    "- 아래와 같은 함수를 이용하여 벡터 생성 가능\n",
    "  - c() => c()함수는 어떤 타입도 관계없는데, seq(), req() 함수는 반드시 수치형 데이터가 디폴트임에 주의\n",
    "  - scan()\n",
    "  - seq()\n",
    "  - rep()\n",
    "\n",
    "## 행렬\n",
    "- 행렬은 벡터의 확장임\n",
    "- 동일한 데이터타입으로 구성된 2차원 자료구조\n",
    "  - 벡터처럼 수치형, 문자형, 논리형 중에 한가지만 가질 수 있음\n",
    "- matrix()\n",
    "- cbind()\n",
    "- rbind()\n",
    "- 행렬에 대해서 일부 원소 추출, apply, sweep 함수 등을 사용 가능\n",
    "\n",
    "## 배열\n",
    "- 행렬을 2차원 이상으로 확장시킨 데이터 구조\n",
    "  - 물론 1차원으로 사용해도 됨\n",
    "- array() 함수를 이용\n",
    "\n",
    "## 리스트\n",
    "- 서로 다른 데이터타입을 원소로 가질수 있는 데이터 구조\n",
    "\n",
    "## 데이터프레임\n",
    "- 데이터 분석시에 많이 사용하는 데이터 구조\n",
    "- read.table()\n",
    "- data.frame()\n",
    "- as.data.frame()\n",
    "\n"
   ]
  },
  {
   "cell_type": "code",
   "execution_count": 165,
   "metadata": {},
   "outputs": [
    {
     "name": "stdout",
     "output_type": "stream",
     "text": [
      "[1] 3 4 5 6 7\n",
      "[1] \"1\"             \"KOREA\"         \"TTTT2222 한글\" \"11\"           \n"
     ]
    },
    {
     "data": {
      "text/html": [
       "<style>\n",
       ".list-inline {list-style: none; margin:0; padding: 0}\n",
       ".list-inline>li {display: inline-block}\n",
       ".list-inline>li:not(:last-child)::after {content: \"\\00b7\"; padding: 0 .5ex}\n",
       "</style>\n",
       "<ol class=list-inline><li>3</li><li>4</li><li>5</li><li>6</li><li>7</li></ol>\n"
      ],
      "text/latex": [
       "\\begin{enumerate*}\n",
       "\\item 3\n",
       "\\item 4\n",
       "\\item 5\n",
       "\\item 6\n",
       "\\item 7\n",
       "\\end{enumerate*}\n"
      ],
      "text/markdown": [
       "1. 3\n",
       "2. 4\n",
       "3. 5\n",
       "4. 6\n",
       "5. 7\n",
       "\n",
       "\n"
      ],
      "text/plain": [
       "[1] 3 4 5 6 7"
      ]
     },
     "metadata": {},
     "output_type": "display_data"
    },
    {
     "data": {
      "text/html": [
       "<style>\n",
       ".list-inline {list-style: none; margin:0; padding: 0}\n",
       ".list-inline>li {display: inline-block}\n",
       ".list-inline>li:not(:last-child)::after {content: \"\\00b7\"; padding: 0 .5ex}\n",
       "</style>\n",
       "<ol class=list-inline><li>3</li><li>5</li><li>7</li></ol>\n"
      ],
      "text/latex": [
       "\\begin{enumerate*}\n",
       "\\item 3\n",
       "\\item 5\n",
       "\\item 7\n",
       "\\end{enumerate*}\n"
      ],
      "text/markdown": [
       "1. 3\n",
       "2. 5\n",
       "3. 7\n",
       "\n",
       "\n"
      ],
      "text/plain": [
       "[1] 3 5 7"
      ]
     },
     "metadata": {},
     "output_type": "display_data"
    },
    {
     "data": {
      "text/html": [
       "<style>\n",
       ".list-inline {list-style: none; margin:0; padding: 0}\n",
       ".list-inline>li {display: inline-block}\n",
       ".list-inline>li:not(:last-child)::after {content: \"\\00b7\"; padding: 0 .5ex}\n",
       "</style>\n",
       "<ol class=list-inline><li>1</li><li>2</li><li>3</li><li>1</li><li>2</li><li>3</li></ol>\n"
      ],
      "text/latex": [
       "\\begin{enumerate*}\n",
       "\\item 1\n",
       "\\item 2\n",
       "\\item 3\n",
       "\\item 1\n",
       "\\item 2\n",
       "\\item 3\n",
       "\\end{enumerate*}\n"
      ],
      "text/markdown": [
       "1. 1\n",
       "2. 2\n",
       "3. 3\n",
       "4. 1\n",
       "5. 2\n",
       "6. 3\n",
       "\n",
       "\n"
      ],
      "text/plain": [
       "[1] 1 2 3 1 2 3"
      ]
     },
     "metadata": {},
     "output_type": "display_data"
    },
    {
     "data": {
      "text/html": [
       "<style>\n",
       ".list-inline {list-style: none; margin:0; padding: 0}\n",
       ".list-inline>li {display: inline-block}\n",
       ".list-inline>li:not(:last-child)::after {content: \"\\00b7\"; padding: 0 .5ex}\n",
       "</style>\n",
       "<ol class=list-inline><li>1</li><li>1</li><li>2</li><li>2</li><li>3</li><li>3</li><li>4</li><li>4</li><li>5</li><li>5</li><li>6</li><li>6</li><li>7</li><li>7</li><li>8</li><li>8</li><li>9</li><li>9</li><li>10</li><li>10</li></ol>\n"
      ],
      "text/latex": [
       "\\begin{enumerate*}\n",
       "\\item 1\n",
       "\\item 1\n",
       "\\item 2\n",
       "\\item 2\n",
       "\\item 3\n",
       "\\item 3\n",
       "\\item 4\n",
       "\\item 4\n",
       "\\item 5\n",
       "\\item 5\n",
       "\\item 6\n",
       "\\item 6\n",
       "\\item 7\n",
       "\\item 7\n",
       "\\item 8\n",
       "\\item 8\n",
       "\\item 9\n",
       "\\item 9\n",
       "\\item 10\n",
       "\\item 10\n",
       "\\end{enumerate*}\n"
      ],
      "text/markdown": [
       "1. 1\n",
       "2. 1\n",
       "3. 2\n",
       "4. 2\n",
       "5. 3\n",
       "6. 3\n",
       "7. 4\n",
       "8. 4\n",
       "9. 5\n",
       "10. 5\n",
       "11. 6\n",
       "12. 6\n",
       "13. 7\n",
       "14. 7\n",
       "15. 8\n",
       "16. 8\n",
       "17. 9\n",
       "18. 9\n",
       "19. 10\n",
       "20. 10\n",
       "\n",
       "\n"
      ],
      "text/plain": [
       " [1]  1  1  2  2  3  3  4  4  5  5  6  6  7  7  8  8  9  9 10 10"
      ]
     },
     "metadata": {},
     "output_type": "display_data"
    },
    {
     "data": {
      "text/html": [
       "<style>\n",
       ".list-inline {list-style: none; margin:0; padding: 0}\n",
       ".list-inline>li {display: inline-block}\n",
       ".list-inline>li:not(:last-child)::after {content: \"\\00b7\"; padding: 0 .5ex}\n",
       "</style>\n",
       "<ol class=list-inline><li>1</li><li>2</li><li>3</li><li>4</li><li>5</li><li>1</li><li>2</li></ol>\n"
      ],
      "text/latex": [
       "\\begin{enumerate*}\n",
       "\\item 1\n",
       "\\item 2\n",
       "\\item 3\n",
       "\\item 4\n",
       "\\item 5\n",
       "\\item 1\n",
       "\\item 2\n",
       "\\end{enumerate*}\n"
      ],
      "text/markdown": [
       "1. 1\n",
       "2. 2\n",
       "3. 3\n",
       "4. 4\n",
       "5. 5\n",
       "6. 1\n",
       "7. 2\n",
       "\n",
       "\n"
      ],
      "text/plain": [
       "[1] 1 2 3 4 5 1 2"
      ]
     },
     "metadata": {},
     "output_type": "display_data"
    },
    {
     "data": {
      "text/html": [
       "<style>\n",
       ".list-inline {list-style: none; margin:0; padding: 0}\n",
       ".list-inline>li {display: inline-block}\n",
       ".list-inline>li:not(:last-child)::after {content: \"\\00b7\"; padding: 0 .5ex}\n",
       "</style>\n",
       "<ol class=list-inline><li>11</li><li>12</li></ol>\n"
      ],
      "text/latex": [
       "\\begin{enumerate*}\n",
       "\\item 11\n",
       "\\item 12\n",
       "\\end{enumerate*}\n"
      ],
      "text/markdown": [
       "1. 11\n",
       "2. 12\n",
       "\n",
       "\n"
      ],
      "text/plain": [
       "[1] 11 12"
      ]
     },
     "metadata": {},
     "output_type": "display_data"
    },
    {
     "data": {
      "text/html": [
       "<style>\n",
       ".list-inline {list-style: none; margin:0; padding: 0}\n",
       ".list-inline>li {display: inline-block}\n",
       ".list-inline>li:not(:last-child)::after {content: \"\\00b7\"; padding: 0 .5ex}\n",
       "</style>\n",
       "<ol class=list-inline><li>16</li><li>17</li><li>18</li><li>19</li><li>20</li></ol>\n"
      ],
      "text/latex": [
       "\\begin{enumerate*}\n",
       "\\item 16\n",
       "\\item 17\n",
       "\\item 18\n",
       "\\item 19\n",
       "\\item 20\n",
       "\\end{enumerate*}\n"
      ],
      "text/markdown": [
       "1. 16\n",
       "2. 17\n",
       "3. 18\n",
       "4. 19\n",
       "5. 20\n",
       "\n",
       "\n"
      ],
      "text/plain": [
       "[1] 16 17 18 19 20"
      ]
     },
     "metadata": {},
     "output_type": "display_data"
    },
    {
     "data": {
      "text/html": [
       "<style>\n",
       ".list-inline {list-style: none; margin:0; padding: 0}\n",
       ".list-inline>li {display: inline-block}\n",
       ".list-inline>li:not(:last-child)::after {content: \"\\00b7\"; padding: 0 .5ex}\n",
       "</style>\n",
       "<ol class=list-inline><li>11</li><li>13</li><li>15</li><li>16</li><li>17</li><li>18</li><li>19</li><li>20</li></ol>\n"
      ],
      "text/latex": [
       "\\begin{enumerate*}\n",
       "\\item 11\n",
       "\\item 13\n",
       "\\item 15\n",
       "\\item 16\n",
       "\\item 17\n",
       "\\item 18\n",
       "\\item 19\n",
       "\\item 20\n",
       "\\end{enumerate*}\n"
      ],
      "text/markdown": [
       "1. 11\n",
       "2. 13\n",
       "3. 15\n",
       "4. 16\n",
       "5. 17\n",
       "6. 18\n",
       "7. 19\n",
       "8. 20\n",
       "\n",
       "\n"
      ],
      "text/plain": [
       "[1] 11 13 15 16 17 18 19 20"
      ]
     },
     "metadata": {},
     "output_type": "display_data"
    },
    {
     "data": {
      "text/html": [
       "<style>\n",
       ".list-inline {list-style: none; margin:0; padding: 0}\n",
       ".list-inline>li {display: inline-block}\n",
       ".list-inline>li:not(:last-child)::after {content: \"\\00b7\"; padding: 0 .5ex}\n",
       "</style>\n",
       "<ol class=list-inline><li>11</li><li>32</li><li>13</li><li>14</li><li>15</li><li>16</li><li>17</li><li>18</li><li>19</li><li>20</li></ol>\n"
      ],
      "text/latex": [
       "\\begin{enumerate*}\n",
       "\\item 11\n",
       "\\item 32\n",
       "\\item 13\n",
       "\\item 14\n",
       "\\item 15\n",
       "\\item 16\n",
       "\\item 17\n",
       "\\item 18\n",
       "\\item 19\n",
       "\\item 20\n",
       "\\end{enumerate*}\n"
      ],
      "text/markdown": [
       "1. 11\n",
       "2. 32\n",
       "3. 13\n",
       "4. 14\n",
       "5. 15\n",
       "6. 16\n",
       "7. 17\n",
       "8. 18\n",
       "9. 19\n",
       "10. 20\n",
       "\n",
       "\n"
      ],
      "text/plain": [
       " [1] 11 32 13 14 15 16 17 18 19 20"
      ]
     },
     "metadata": {},
     "output_type": "display_data"
    },
    {
     "name": "stdout",
     "output_type": "stream",
     "text": [
      "     [,1] [,2] [,3]\n",
      "[1,]    1    4    7\n",
      "[2,]    2    5    8\n",
      "[3,]    3    6    9\n",
      "     [,1] [,2] [,3]\n",
      "[1,]    1    2    3\n",
      "[2,]    4    5    6\n",
      "[3,]    7    8    9\n"
     ]
    },
    {
     "data": {
      "text/html": [
       "9"
      ],
      "text/latex": [
       "9"
      ],
      "text/markdown": [
       "9"
      ],
      "text/plain": [
       "[1] 9"
      ]
     },
     "metadata": {},
     "output_type": "display_data"
    },
    {
     "data": {
      "text/html": [
       "'numeric'"
      ],
      "text/latex": [
       "'numeric'"
      ],
      "text/markdown": [
       "'numeric'"
      ],
      "text/plain": [
       "[1] \"numeric\""
      ]
     },
     "metadata": {},
     "output_type": "display_data"
    },
    {
     "data": {
      "text/html": [
       "<style>\n",
       ".list-inline {list-style: none; margin:0; padding: 0}\n",
       ".list-inline>li {display: inline-block}\n",
       ".list-inline>li:not(:last-child)::after {content: \"\\00b7\"; padding: 0 .5ex}\n",
       "</style>\n",
       "<ol class=list-inline><li>3</li><li>3</li></ol>\n"
      ],
      "text/latex": [
       "\\begin{enumerate*}\n",
       "\\item 3\n",
       "\\item 3\n",
       "\\end{enumerate*}\n"
      ],
      "text/markdown": [
       "1. 3\n",
       "2. 3\n",
       "\n",
       "\n"
      ],
      "text/plain": [
       "[1] 3 3"
      ]
     },
     "metadata": {},
     "output_type": "display_data"
    },
    {
     "data": {
      "text/html": [
       "5"
      ],
      "text/latex": [
       "5"
      ],
      "text/markdown": [
       "5"
      ],
      "text/plain": [
       "[1] 5"
      ]
     },
     "metadata": {},
     "output_type": "display_data"
    },
    {
     "data": {
      "text/html": [
       "<style>\n",
       ".list-inline {list-style: none; margin:0; padding: 0}\n",
       ".list-inline>li {display: inline-block}\n",
       ".list-inline>li:not(:last-child)::after {content: \"\\00b7\"; padding: 0 .5ex}\n",
       "</style>\n",
       "<ol class=list-inline><li>1</li><li>2</li><li>3</li></ol>\n"
      ],
      "text/latex": [
       "\\begin{enumerate*}\n",
       "\\item 1\n",
       "\\item 2\n",
       "\\item 3\n",
       "\\end{enumerate*}\n"
      ],
      "text/markdown": [
       "1. 1\n",
       "2. 2\n",
       "3. 3\n",
       "\n",
       "\n"
      ],
      "text/plain": [
       "[1] 1 2 3"
      ]
     },
     "metadata": {},
     "output_type": "display_data"
    },
    {
     "data": {
      "text/html": [
       "<style>\n",
       ".list-inline {list-style: none; margin:0; padding: 0}\n",
       ".list-inline>li {display: inline-block}\n",
       ".list-inline>li:not(:last-child)::after {content: \"\\00b7\"; padding: 0 .5ex}\n",
       "</style>\n",
       "<ol class=list-inline><li>3</li><li>6</li><li>9</li></ol>\n"
      ],
      "text/latex": [
       "\\begin{enumerate*}\n",
       "\\item 3\n",
       "\\item 6\n",
       "\\item 9\n",
       "\\end{enumerate*}\n"
      ],
      "text/markdown": [
       "1. 3\n",
       "2. 6\n",
       "3. 9\n",
       "\n",
       "\n"
      ],
      "text/plain": [
       "[1] 3 6 9"
      ]
     },
     "metadata": {},
     "output_type": "display_data"
    },
    {
     "data": {
      "text/html": [
       "<table class=\"dataframe\">\n",
       "<caption>A matrix: 2 × 3 of type int</caption>\n",
       "<tbody>\n",
       "\t<tr><td>4</td><td>5</td><td>6</td></tr>\n",
       "\t<tr><td>7</td><td>8</td><td>9</td></tr>\n",
       "</tbody>\n",
       "</table>\n"
      ],
      "text/latex": [
       "A matrix: 2 × 3 of type int\n",
       "\\begin{tabular}{lll}\n",
       "\t 4 & 5 & 6\\\\\n",
       "\t 7 & 8 & 9\\\\\n",
       "\\end{tabular}\n"
      ],
      "text/markdown": [
       "\n",
       "A matrix: 2 × 3 of type int\n",
       "\n",
       "| 4 | 5 | 6 |\n",
       "| 7 | 8 | 9 |\n",
       "\n"
      ],
      "text/plain": [
       "     [,1] [,2] [,3]\n",
       "[1,] 4    5    6   \n",
       "[2,] 7    8    9   "
      ]
     },
     "metadata": {},
     "output_type": "display_data"
    },
    {
     "name": "stdout",
     "output_type": "stream",
     "text": [
      "     [,1] [,2] [,3]\n",
      "[1,]    1    4    9\n",
      "[2,]   16   25   36\n",
      "[3,]   49   64   81\n",
      "     [,1] [,2] [,3]\n",
      "[1,]   30   36   42\n",
      "[2,]   66   81   96\n",
      "[3,]  102  126  150\n"
     ]
    },
    {
     "data": {
      "text/html": [
       "<table class=\"dataframe\">\n",
       "<caption>A matrix: 3 × 3 of type int</caption>\n",
       "<tbody>\n",
       "\t<tr><td>1</td><td>4</td><td>7</td></tr>\n",
       "\t<tr><td>2</td><td>5</td><td>8</td></tr>\n",
       "\t<tr><td>3</td><td>6</td><td>9</td></tr>\n",
       "</tbody>\n",
       "</table>\n"
      ],
      "text/latex": [
       "A matrix: 3 × 3 of type int\n",
       "\\begin{tabular}{lll}\n",
       "\t 1 & 4 & 7\\\\\n",
       "\t 2 & 5 & 8\\\\\n",
       "\t 3 & 6 & 9\\\\\n",
       "\\end{tabular}\n"
      ],
      "text/markdown": [
       "\n",
       "A matrix: 3 × 3 of type int\n",
       "\n",
       "| 1 | 4 | 7 |\n",
       "| 2 | 5 | 8 |\n",
       "| 3 | 6 | 9 |\n",
       "\n"
      ],
      "text/plain": [
       "     [,1] [,2] [,3]\n",
       "[1,] 1    4    7   \n",
       "[2,] 2    5    8   \n",
       "[3,] 3    6    9   "
      ]
     },
     "metadata": {},
     "output_type": "display_data"
    },
    {
     "name": "stdout",
     "output_type": "stream",
     "text": [
      ", , 1\n",
      "\n",
      "     [,1] [,2] [,3]\n",
      "[1,]    1    4    7\n",
      "[2,]    2    5    8\n",
      "[3,]    3    6    9\n",
      "\n",
      ", , 2\n",
      "\n",
      "     [,1] [,2] [,3]\n",
      "[1,]   10   13   16\n",
      "[2,]   11   14   17\n",
      "[3,]   12   15   18\n",
      "\n"
     ]
    },
    {
     "data": {
      "text/html": [
       "<table class=\"dataframe\">\n",
       "<caption>A data.frame: 5 × 4</caption>\n",
       "<thead>\n",
       "\t<tr><th scope=col>num</th><th scope=col>name</th><th scope=col>age</th><th scope=col>sex</th></tr>\n",
       "\t<tr><th scope=col>&lt;int&gt;</th><th scope=col>&lt;fct&gt;</th><th scope=col>&lt;int&gt;</th><th scope=col>&lt;fct&gt;</th></tr>\n",
       "</thead>\n",
       "<tbody>\n",
       "\t<tr><td>1</td><td>Lee </td><td>55</td><td>M</td></tr>\n",
       "\t<tr><td>2</td><td>Kwon</td><td>57</td><td>M</td></tr>\n",
       "\t<tr><td>3</td><td>Park</td><td>12</td><td>F</td></tr>\n",
       "\t<tr><td>4</td><td>Yoon</td><td>45</td><td>F</td></tr>\n",
       "\t<tr><td>5</td><td>Kim </td><td>34</td><td>F</td></tr>\n",
       "</tbody>\n",
       "</table>\n"
      ],
      "text/latex": [
       "A data.frame: 5 × 4\n",
       "\\begin{tabular}{llll}\n",
       " num & name & age & sex\\\\\n",
       " <int> & <fct> & <int> & <fct>\\\\\n",
       "\\hline\n",
       "\t 1 & Lee  & 55 & M\\\\\n",
       "\t 2 & Kwon & 57 & M\\\\\n",
       "\t 3 & Park & 12 & F\\\\\n",
       "\t 4 & Yoon & 45 & F\\\\\n",
       "\t 5 & Kim  & 34 & F\\\\\n",
       "\\end{tabular}\n"
      ],
      "text/markdown": [
       "\n",
       "A data.frame: 5 × 4\n",
       "\n",
       "| num &lt;int&gt; | name &lt;fct&gt; | age &lt;int&gt; | sex &lt;fct&gt; |\n",
       "|---|---|---|---|\n",
       "| 1 | Lee  | 55 | M |\n",
       "| 2 | Kwon | 57 | M |\n",
       "| 3 | Park | 12 | F |\n",
       "| 4 | Yoon | 45 | F |\n",
       "| 5 | Kim  | 34 | F |\n",
       "\n"
      ],
      "text/plain": [
       "  num name age sex\n",
       "1 1   Lee  55  M  \n",
       "2 2   Kwon 57  M  \n",
       "3 3   Park 12  F  \n",
       "4 4   Yoon 45  F  \n",
       "5 5   Kim  34  F  "
      ]
     },
     "metadata": {},
     "output_type": "display_data"
    },
    {
     "data": {
      "text/html": [
       "<table class=\"dataframe\">\n",
       "<caption>A matrix: 5 × 4 of type chr</caption>\n",
       "<tbody>\n",
       "\t<tr><td>A</td><td>F</td><td>K</td><td>P</td></tr>\n",
       "\t<tr><td>B</td><td>G</td><td>L</td><td>Q</td></tr>\n",
       "\t<tr><td>C</td><td>H</td><td>M</td><td>R</td></tr>\n",
       "\t<tr><td>D</td><td>I</td><td>N</td><td>S</td></tr>\n",
       "\t<tr><td>E</td><td>J</td><td>O</td><td>T</td></tr>\n",
       "</tbody>\n",
       "</table>\n"
      ],
      "text/latex": [
       "A matrix: 5 × 4 of type chr\n",
       "\\begin{tabular}{llll}\n",
       "\t A & F & K & P\\\\\n",
       "\t B & G & L & Q\\\\\n",
       "\t C & H & M & R\\\\\n",
       "\t D & I & N & S\\\\\n",
       "\t E & J & O & T\\\\\n",
       "\\end{tabular}\n"
      ],
      "text/markdown": [
       "\n",
       "A matrix: 5 × 4 of type chr\n",
       "\n",
       "| A | F | K | P |\n",
       "| B | G | L | Q |\n",
       "| C | H | M | R |\n",
       "| D | I | N | S |\n",
       "| E | J | O | T |\n",
       "\n"
      ],
      "text/plain": [
       "     [,1] [,2] [,3] [,4]\n",
       "[1,] A    F    K    P   \n",
       "[2,] B    G    L    Q   \n",
       "[3,] C    H    M    R   \n",
       "[4,] D    I    N    S   \n",
       "[5,] E    J    O    T   "
      ]
     },
     "metadata": {},
     "output_type": "display_data"
    },
    {
     "name": "stdout",
     "output_type": "stream",
     "text": [
      "  V1 V2 V3 V4\n",
      "1  A  F  K  P\n",
      "2  B  G  L  Q\n",
      "3  C  H  M  R\n",
      "4  D  I  N  S\n",
      "5  E  J  O  T\n"
     ]
    }
   ],
   "source": [
    "test1 <- c(3:7)\n",
    "print(test1)\n",
    "\n",
    "# 흥미로운 것은 수치형 데이터를 넣어도 문자열로 타입이 바뀌어서 저장됨\n",
    "test2 <- c(\"1\", \"KOREA\", \"TTTT2222 한글\", 11)\n",
    "print(test2)\n",
    "\n",
    "# seq, rep 함수는 재미있는 다양한 인자를 줄 수가 있음\n",
    "seq(from = 3, to=7, by=1) # 34567\n",
    "seq(from = 3, to=7, by=2) # 357\n",
    "\n",
    "# rep() 함수 이용하기\n",
    "rep(x = c(1,2,3), times=2) #123123\n",
    "rep(1:10, each=2) # 각 원소를 2번씩 출력(순서에 주의해야함)\n",
    "rep(1:5, length=7) #1~5를 반복하긴하는데, 7번째원소까지만 출력\n",
    "\n",
    "# 함수 용도를 잘 모르겠으면 help 함수를 이용하면 됨, 인자로 함수명을 넣어주면 됨\n",
    "# help(rep)\n",
    "\n",
    "v1 <- c(11:20)\n",
    "v1[c(1,2)] # v1 벡터에서 1, 2번째 원소 추출\n",
    "v1[v1>15] # v1 벡터에서 15보다 큰 원소 추출\n",
    "v1[c(-2, -4)] # 이게 용도가 독특한데, 두번째, 네번째 원소를 제외하고 모두 추출\n",
    "\n",
    "replace(v1, 2, 32) # v1 벡터의 두번째 원소값을 32로 교체\n",
    "\n",
    "# matrix 함수가 독특한 것이 3행3열 행렬을 만든다고하면, 숫자부여가 열 방향이 디폴트임\n",
    "mat1 <- matrix(1:9, nrow=3)\n",
    "print(mat1)\n",
    "\n",
    "# 행 방향으로 숫자부여하고 싶으면, byrow 인자를 활용할 것\n",
    "mat2 <- matrix(1:9, nrow=3, byrow = T)\n",
    "print(mat2)\n",
    "length(mat2)\n",
    "mode(mat2)\n",
    "dim(mat2)\n",
    "\n",
    "mat3 <- matrix(1:9, nrow=3, byrow=T)\n",
    "mat3[2,2] # 이건 뭐 기본 연산이지, 2행 2열 원소 추출\n",
    "mat3[1,] # 1행 원소 출력\n",
    "mat3[,3] # 3열 원소 출력\n",
    "mat3[mat3[,3] > 4, ] # 행렬의 3열의 값이 4보다 큰 행렬을 가져오게됨\n",
    "\n",
    "# 행렬의 원소 단위의 곱셈(행렬의 곱셈과 다름!)\n",
    "print(mat3 * mat3)\n",
    "# 아래 연산이 행렬의 곱셈\n",
    "print(mat3 %*% mat3)\n",
    "# 전치행렬\n",
    "t(mat3)\n",
    "\n",
    "# 배열\n",
    "arr1 <- array(1:24, c(3,3,2))\n",
    "print(arr1)\n",
    "\n",
    "\n",
    "d2 <- read.table(\"story.txt\", header=T, sep = \",\")\n",
    "d2\n",
    "\n",
    "a1 <- LETTERS[1:20] # 영어 알파벳 대문자 추출\n",
    "dim(a1) <- c(5,4)\n",
    "a1\n",
    "\n",
    "# 행렬을 매트릭스로 아래와 같이 as.data.frame 함수를 이용하여 변환 가능\n",
    "a2 <- as.data.frame(a1)\n",
    "print(a2)\n",
    "\n"
   ]
  },
  {
   "cell_type": "code",
   "execution_count": 48,
   "metadata": {},
   "outputs": [
    {
     "data": {
      "text/html": [
       "<style>\n",
       ".list-inline {list-style: none; margin:0; padding: 0}\n",
       ".list-inline>li {display: inline-block}\n",
       ".list-inline>li:not(:last-child)::after {content: \"\\00b7\"; padding: 0 .5ex}\n",
       "</style>\n",
       "<ol class=list-inline><li>1</li><li>2</li><li>3</li><li>4</li><li>5</li><li>6</li><li>7</li><li>8</li><li>9</li><li>10</li><li>11</li><li>12</li><li>13</li><li>14</li><li>15</li><li>16</li><li>17</li><li>18</li></ol>\n"
      ],
      "text/latex": [
       "\\begin{enumerate*}\n",
       "\\item 1\n",
       "\\item 2\n",
       "\\item 3\n",
       "\\item 4\n",
       "\\item 5\n",
       "\\item 6\n",
       "\\item 7\n",
       "\\item 8\n",
       "\\item 9\n",
       "\\item 10\n",
       "\\item 11\n",
       "\\item 12\n",
       "\\item 13\n",
       "\\item 14\n",
       "\\item 15\n",
       "\\item 16\n",
       "\\item 17\n",
       "\\item 18\n",
       "\\end{enumerate*}\n"
      ],
      "text/markdown": [
       "1. 1\n",
       "2. 2\n",
       "3. 3\n",
       "4. 4\n",
       "5. 5\n",
       "6. 6\n",
       "7. 7\n",
       "8. 8\n",
       "9. 9\n",
       "10. 10\n",
       "11. 11\n",
       "12. 12\n",
       "13. 13\n",
       "14. 14\n",
       "15. 15\n",
       "16. 16\n",
       "17. 17\n",
       "18. 18\n",
       "\n",
       "\n"
      ],
      "text/plain": [
       ", , 1\n",
       "\n",
       "     [,1] [,2] [,3]\n",
       "[1,]    1    4    7\n",
       "[2,]    2    5    8\n",
       "[3,]    3    6    9\n",
       "\n",
       ", , 2\n",
       "\n",
       "     [,1] [,2] [,3]\n",
       "[1,]   10   13   16\n",
       "[2,]   11   14   17\n",
       "[3,]   12   15   18\n"
      ]
     },
     "metadata": {},
     "output_type": "display_data"
    },
    {
     "data": {
      "text/html": [
       "18"
      ],
      "text/latex": [
       "18"
      ],
      "text/markdown": [
       "18"
      ],
      "text/plain": [
       "[1] 18"
      ]
     },
     "metadata": {},
     "output_type": "display_data"
    },
    {
     "data": {
      "text/html": [
       "<style>\n",
       ".list-inline {list-style: none; margin:0; padding: 0}\n",
       ".list-inline>li {display: inline-block}\n",
       ".list-inline>li:not(:last-child)::after {content: \"\\00b7\"; padding: 0 .5ex}\n",
       "</style>\n",
       "<ol class=list-inline><li>3</li><li>3</li><li>2</li></ol>\n"
      ],
      "text/latex": [
       "\\begin{enumerate*}\n",
       "\\item 3\n",
       "\\item 3\n",
       "\\item 2\n",
       "\\end{enumerate*}\n"
      ],
      "text/markdown": [
       "1. 3\n",
       "2. 3\n",
       "3. 2\n",
       "\n",
       "\n"
      ],
      "text/plain": [
       "[1] 3 3 2"
      ]
     },
     "metadata": {},
     "output_type": "display_data"
    },
    {
     "data": {
      "text/html": [
       "'numeric'"
      ],
      "text/latex": [
       "'numeric'"
      ],
      "text/markdown": [
       "'numeric'"
      ],
      "text/plain": [
       "[1] \"numeric\""
      ]
     },
     "metadata": {},
     "output_type": "display_data"
    },
    {
     "data": {
      "text/html": [
       "<style>\n",
       ".list-inline {list-style: none; margin:0; padding: 0}\n",
       ".list-inline>li {display: inline-block}\n",
       ".list-inline>li:not(:last-child)::after {content: \"\\00b7\"; padding: 0 .5ex}\n",
       "</style>\n",
       "<ol class=list-inline><li>1</li><li>2</li><li>3</li><li>4</li><li>5</li><li>6</li><li>7</li><li>8</li><li>9</li><li>10</li><li>11</li><li>12</li><li>13</li><li>14</li><li>15</li><li>16</li><li>17</li><li>18</li><li>19</li><li>20</li><li>21</li><li>22</li><li>23</li><li>24</li></ol>\n"
      ],
      "text/latex": [
       "\\begin{enumerate*}\n",
       "\\item 1\n",
       "\\item 2\n",
       "\\item 3\n",
       "\\item 4\n",
       "\\item 5\n",
       "\\item 6\n",
       "\\item 7\n",
       "\\item 8\n",
       "\\item 9\n",
       "\\item 10\n",
       "\\item 11\n",
       "\\item 12\n",
       "\\item 13\n",
       "\\item 14\n",
       "\\item 15\n",
       "\\item 16\n",
       "\\item 17\n",
       "\\item 18\n",
       "\\item 19\n",
       "\\item 20\n",
       "\\item 21\n",
       "\\item 22\n",
       "\\item 23\n",
       "\\item 24\n",
       "\\end{enumerate*}\n"
      ],
      "text/markdown": [
       "1. 1\n",
       "2. 2\n",
       "3. 3\n",
       "4. 4\n",
       "5. 5\n",
       "6. 6\n",
       "7. 7\n",
       "8. 8\n",
       "9. 9\n",
       "10. 10\n",
       "11. 11\n",
       "12. 12\n",
       "13. 13\n",
       "14. 14\n",
       "15. 15\n",
       "16. 16\n",
       "17. 17\n",
       "18. 18\n",
       "19. 19\n",
       "20. 20\n",
       "21. 21\n",
       "22. 22\n",
       "23. 23\n",
       "24. 24\n",
       "\n",
       "\n"
      ],
      "text/plain": [
       ", , 1\n",
       "\n",
       "     [,1] [,2] [,3] [,4]\n",
       "[1,]    1    4    7   10\n",
       "[2,]    2    5    8   11\n",
       "[3,]    3    6    9   12\n",
       "\n",
       ", , 2\n",
       "\n",
       "     [,1] [,2] [,3] [,4]\n",
       "[1,]   13   16   19   22\n",
       "[2,]   14   17   20   23\n",
       "[3,]   15   18   21   24\n"
      ]
     },
     "metadata": {},
     "output_type": "display_data"
    }
   ],
   "source": [
    "# 벡터 => 행렬 => 배열\n",
    "# 주의할 점이 배열이 컴퓨터 사이언스에서 의미하는 array 개념이 아님\n",
    "# R 코딩에서 배열이 복수의 행렬로 구성된 자료구조로 이해해야함\n",
    "# 동일한 행과 열을 가진 행렬을 원소로 가진 집합이 배열이 되는 것\n",
    "# length - 자료의 개수, mode - 자료의 형태, dim - 각 차원 벡터의 크기, dimnames - 각 차원 리스트의 이름\n",
    "\n",
    "arr <- array(1:24, c(3,3,2)) \n",
    "# 1~18까지의 자료 생성, c(3,3,2) => 3,3,2 사이즈를 가진 자료구조를 만듦, 3행, 3열로 이루어진 행렬을 2개 만든다는 의미\n",
    "# 독특한 점이 24개의 수를 만드는데 실제 행렬 2개를 만들고 나머지 19~24는 버리고 배열을 만든다는 것\n",
    "\n",
    "arr\n",
    "\n",
    "length(arr)\n",
    "\n",
    "dim(arr)\n",
    "\n",
    "test2 <- array(1:6)\n",
    "mode(test2)\n",
    "\n",
    "# 배열은 숫자만 원소로 가질수 있음\n",
    "#test3 <- array('a','b')\n",
    "\n",
    "arr <- c(1:24) # 벡터를 정의하고\n",
    "dim(arr) <- c(3,4,2) # dim을 이용하면 이걸로 행렬 2개를 만들게 됨\n",
    "arr\n",
    "\n",
    "arr <- array(1:8)\n",
    "\n"
   ]
  },
  {
   "cell_type": "code",
   "execution_count": 62,
   "metadata": {},
   "outputs": [
    {
     "data": {
      "text/html": [
       "<dl>\n",
       "\t<dt>$vec1</dt>\n",
       "\t\t<dd><style>\n",
       ".list-inline {list-style: none; margin:0; padding: 0}\n",
       ".list-inline>li {display: inline-block}\n",
       ".list-inline>li:not(:last-child)::after {content: \"\\00b7\"; padding: 0 .5ex}\n",
       "</style>\n",
       "<ol class=list-inline><li>1</li><li>2</li><li>3</li><li>4</li><li>5</li><li>6</li><li>7</li><li>8</li><li>9</li><li>10</li></ol>\n",
       "</dd>\n",
       "\t<dt>$vec2</dt>\n",
       "\t\t<dd><style>\n",
       ".list-inline {list-style: none; margin:0; padding: 0}\n",
       ".list-inline>li {display: inline-block}\n",
       ".list-inline>li:not(:last-child)::after {content: \"\\00b7\"; padding: 0 .5ex}\n",
       "</style>\n",
       "<ol class=list-inline><li>11</li><li>12</li><li>13</li><li>14</li><li>15</li></ol>\n",
       "</dd>\n",
       "\t<dt>$descrip</dt>\n",
       "\t\t<dd>'example'</dd>\n",
       "</dl>\n"
      ],
      "text/latex": [
       "\\begin{description}\n",
       "\\item[\\$vec1] \\begin{enumerate*}\n",
       "\\item 1\n",
       "\\item 2\n",
       "\\item 3\n",
       "\\item 4\n",
       "\\item 5\n",
       "\\item 6\n",
       "\\item 7\n",
       "\\item 8\n",
       "\\item 9\n",
       "\\item 10\n",
       "\\end{enumerate*}\n",
       "\n",
       "\\item[\\$vec2] \\begin{enumerate*}\n",
       "\\item 11\n",
       "\\item 12\n",
       "\\item 13\n",
       "\\item 14\n",
       "\\item 15\n",
       "\\end{enumerate*}\n",
       "\n",
       "\\item[\\$descrip] 'example'\n",
       "\\end{description}\n"
      ],
      "text/markdown": [
       "$vec1\n",
       ":   1. 1\n",
       "2. 2\n",
       "3. 3\n",
       "4. 4\n",
       "5. 5\n",
       "6. 6\n",
       "7. 7\n",
       "8. 8\n",
       "9. 9\n",
       "10. 10\n",
       "\n",
       "\n",
       "\n",
       "$vec2\n",
       ":   1. 11\n",
       "2. 12\n",
       "3. 13\n",
       "4. 14\n",
       "5. 15\n",
       "\n",
       "\n",
       "\n",
       "$descrip\n",
       ":   'example'\n",
       "\n",
       "\n"
      ],
      "text/plain": [
       "$vec1\n",
       " [1]  1  2  3  4  5  6  7  8  9 10\n",
       "\n",
       "$vec2\n",
       "[1] 11 12 13 14 15\n",
       "\n",
       "$descrip\n",
       "[1] \"example\"\n"
      ]
     },
     "metadata": {},
     "output_type": "display_data"
    },
    {
     "data": {
      "text/html": [
       "3"
      ],
      "text/latex": [
       "3"
      ],
      "text/markdown": [
       "3"
      ],
      "text/plain": [
       "[1] 3"
      ]
     },
     "metadata": {},
     "output_type": "display_data"
    },
    {
     "data": {
      "text/html": [
       "<style>\n",
       ".list-inline {list-style: none; margin:0; padding: 0}\n",
       ".list-inline>li {display: inline-block}\n",
       ".list-inline>li:not(:last-child)::after {content: \"\\00b7\"; padding: 0 .5ex}\n",
       "</style>\n",
       "<ol class=list-inline><li>'vec1'</li><li>'vec2'</li><li>'descrip'</li></ol>\n"
      ],
      "text/latex": [
       "\\begin{enumerate*}\n",
       "\\item 'vec1'\n",
       "\\item 'vec2'\n",
       "\\item 'descrip'\n",
       "\\end{enumerate*}\n"
      ],
      "text/markdown": [
       "1. 'vec1'\n",
       "2. 'vec2'\n",
       "3. 'descrip'\n",
       "\n",
       "\n"
      ],
      "text/plain": [
       "[1] \"vec1\"    \"vec2\"    \"descrip\""
      ]
     },
     "metadata": {},
     "output_type": "display_data"
    },
    {
     "data": {
      "text/html": [
       "<style>\n",
       ".list-inline {list-style: none; margin:0; padding: 0}\n",
       ".list-inline>li {display: inline-block}\n",
       ".list-inline>li:not(:last-child)::after {content: \"\\00b7\"; padding: 0 .5ex}\n",
       "</style>\n",
       "<ol class=list-inline><li>1</li><li>2</li><li>3</li><li>4</li><li>5</li><li>6</li><li>7</li><li>8</li><li>9</li><li>10</li></ol>\n"
      ],
      "text/latex": [
       "\\begin{enumerate*}\n",
       "\\item 1\n",
       "\\item 2\n",
       "\\item 3\n",
       "\\item 4\n",
       "\\item 5\n",
       "\\item 6\n",
       "\\item 7\n",
       "\\item 8\n",
       "\\item 9\n",
       "\\item 10\n",
       "\\end{enumerate*}\n"
      ],
      "text/markdown": [
       "1. 1\n",
       "2. 2\n",
       "3. 3\n",
       "4. 4\n",
       "5. 5\n",
       "6. 6\n",
       "7. 7\n",
       "8. 8\n",
       "9. 9\n",
       "10. 10\n",
       "\n",
       "\n"
      ],
      "text/plain": [
       " [1]  1  2  3  4  5  6  7  8  9 10"
      ]
     },
     "metadata": {},
     "output_type": "display_data"
    },
    {
     "data": {
      "text/html": [
       "1"
      ],
      "text/latex": [
       "1"
      ],
      "text/markdown": [
       "1"
      ],
      "text/plain": [
       "[1] 1"
      ]
     },
     "metadata": {},
     "output_type": "display_data"
    },
    {
     "data": {
      "text/html": [
       "<style>\n",
       ".list-inline {list-style: none; margin:0; padding: 0}\n",
       ".list-inline>li {display: inline-block}\n",
       ".list-inline>li:not(:last-child)::after {content: \"\\00b7\"; padding: 0 .5ex}\n",
       "</style>\n",
       "<ol class=list-inline><li>11</li><li>12</li><li>13</li><li>14</li><li>15</li></ol>\n"
      ],
      "text/latex": [
       "\\begin{enumerate*}\n",
       "\\item 11\n",
       "\\item 12\n",
       "\\item 13\n",
       "\\item 14\n",
       "\\item 15\n",
       "\\end{enumerate*}\n"
      ],
      "text/markdown": [
       "1. 11\n",
       "2. 12\n",
       "3. 13\n",
       "4. 14\n",
       "5. 15\n",
       "\n",
       "\n"
      ],
      "text/plain": [
       "[1] 11 12 13 14 15"
      ]
     },
     "metadata": {},
     "output_type": "display_data"
    },
    {
     "data": {
      "text/html": [
       "<style>\n",
       ".list-inline {list-style: none; margin:0; padding: 0}\n",
       ".list-inline>li {display: inline-block}\n",
       ".list-inline>li:not(:last-child)::after {content: \"\\00b7\"; padding: 0 .5ex}\n",
       "</style>\n",
       "<ol class=list-inline><li>1</li><li>2</li><li>3</li><li>4</li><li>5</li><li>6</li><li>7</li><li>8</li><li>9</li><li>10</li></ol>\n"
      ],
      "text/latex": [
       "\\begin{enumerate*}\n",
       "\\item 1\n",
       "\\item 2\n",
       "\\item 3\n",
       "\\item 4\n",
       "\\item 5\n",
       "\\item 6\n",
       "\\item 7\n",
       "\\item 8\n",
       "\\item 9\n",
       "\\item 10\n",
       "\\end{enumerate*}\n"
      ],
      "text/markdown": [
       "1. 1\n",
       "2. 2\n",
       "3. 3\n",
       "4. 4\n",
       "5. 5\n",
       "6. 6\n",
       "7. 7\n",
       "8. 8\n",
       "9. 9\n",
       "10. 10\n",
       "\n",
       "\n"
      ],
      "text/plain": [
       " [1]  1  2  3  4  5  6  7  8  9 10"
      ]
     },
     "metadata": {},
     "output_type": "display_data"
    },
    {
     "data": {
      "text/html": [
       "1"
      ],
      "text/latex": [
       "1"
      ],
      "text/markdown": [
       "1"
      ],
      "text/plain": [
       "[1] 1"
      ]
     },
     "metadata": {},
     "output_type": "display_data"
    },
    {
     "data": {
      "text/html": [
       "2"
      ],
      "text/latex": [
       "2"
      ],
      "text/markdown": [
       "2"
      ],
      "text/plain": [
       "[1] 2"
      ]
     },
     "metadata": {},
     "output_type": "display_data"
    }
   ],
   "source": [
    "# 리스트 => 서로 다른 형태의 데이터로 구성된 객체(문자, 숫자 등 다양한 데이터 타입이 포함 가능)\n",
    "a <- 1:10\n",
    "b <- 11:15\n",
    "\n",
    "klist <- list(vec1=a, vec2 =b, descrip=\"example\")\n",
    "klist\n",
    "length(klist)\n",
    "\n",
    "names(klist)\n",
    "\n",
    "# 리스트는 인덱스 시작이 1부터 시작함\n",
    "klist[[1]]\n",
    "klist$vec1[1]\n",
    "\n",
    "klist[[2]]\n",
    "\n",
    "klist$vec1\n",
    "klist$vec1[1]\n",
    "\n",
    "klist$vec1[2]"
   ]
  }
 ],
 "metadata": {
  "kernelspec": {
   "display_name": "R",
   "language": "R",
   "name": "ir"
  },
  "language_info": {
   "codemirror_mode": "r",
   "file_extension": ".r",
   "mimetype": "text/x-r-source",
   "name": "R",
   "pygments_lexer": "r",
   "version": "3.6.0"
  }
 },
 "nbformat": 4,
 "nbformat_minor": 4
}
